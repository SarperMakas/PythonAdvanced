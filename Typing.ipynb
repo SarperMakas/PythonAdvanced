{
  "nbformat": 4,
  "nbformat_minor": 0,
  "metadata": {
    "colab": {
      "provenance": [],
      "authorship_tag": "ABX9TyPPPMGzHdIIARE1bhDMrIen",
      "include_colab_link": true
    },
    "kernelspec": {
      "name": "python3",
      "display_name": "Python 3"
    },
    "language_info": {
      "name": "python"
    }
  },
  "cells": [
    {
      "cell_type": "markdown",
      "metadata": {
        "id": "view-in-github",
        "colab_type": "text"
      },
      "source": [
        "<a href=\"https://colab.research.google.com/github/SarperMakas/PythonAdvanced/blob/master/Typing.ipynb\" target=\"_parent\"><img src=\"https://colab.research.google.com/assets/colab-badge.svg\" alt=\"Open In Colab\"/></a>"
      ]
    },
    {
      "cell_type": "code",
      "source": [
        "Vector = list[float]\n",
        "\n",
        "def scale(scalar: float, vector: Vector) -> Vector:\n",
        "  return [scalar * num for num in vector]\n",
        "\n",
        "new_vector = scale(2.0, [1.0, -4.2, 5.4])\n",
        "print(new_vector)"
      ],
      "metadata": {
        "colab": {
          "base_uri": "https://localhost:8080/"
        },
        "id": "CsOnNeCsqDlu",
        "outputId": "4ad85232-1e97-4880-f228-0168696d6c81"
      },
      "execution_count": null,
      "outputs": [
        {
          "output_type": "stream",
          "name": "stdout",
          "text": [
            "[2.0, -8.4, 10.8]\n"
          ]
        }
      ]
    },
    {
      "cell_type": "code",
      "source": [
        "from collections.abc import Sequence\n",
        "\n",
        "ConnectionOptions = dict[str, str]\n",
        "Address = tuple[str, int]\n",
        "Server = tuple[Address, ConnectionOptions]"
      ],
      "metadata": {
        "id": "mVVjnxdTq2Fy"
      },
      "execution_count": null,
      "outputs": []
    },
    {
      "cell_type": "code",
      "source": [
        "from typing import TypeAlias\n",
        "\n",
        "# marked with TypeAlias to make it explicit that this  is  a type alias, not a normal variable assignment\n",
        "Vector: TypeAlias = list[float]\n",
        "print(type(Vector))"
      ],
      "metadata": {
        "colab": {
          "base_uri": "https://localhost:8080/"
        },
        "id": "_jhnXSjnrL8F",
        "outputId": "6cb42287-0d39-46af-b385-9ef565cc105c"
      },
      "execution_count": null,
      "outputs": [
        {
          "output_type": "stream",
          "name": "stdout",
          "text": [
            "<class 'types.GenericAlias'>\n"
          ]
        }
      ]
    },
    {
      "cell_type": "code",
      "source": [
        "from typing import NewType\n",
        "\n",
        "UserId = NewType(\"UserId\", int)\n",
        "some_id = UserId(524313)\n",
        "\n",
        "def get_user_name(user_id: UserId) -> str:\n",
        "  return str(user_id)\n",
        "\n",
        "user_a = get_user_name(UserId(324233))\n",
        "user_b = get_user_name(23)\n",
        "\n",
        "print(user_a, user_b)"
      ],
      "metadata": {
        "colab": {
          "base_uri": "https://localhost:8080/"
        },
        "id": "zSsiXDGTrlh2",
        "outputId": "21d77273-b219-446e-d5f2-86a9566e5a53"
      },
      "execution_count": null,
      "outputs": [
        {
          "output_type": "stream",
          "name": "stdout",
          "text": [
            "324233 23\n"
          ]
        }
      ]
    },
    {
      "cell_type": "code",
      "source": [
        "output = UserId(32342) + UserId(12345)\n",
        "print(output)"
      ],
      "metadata": {
        "colab": {
          "base_uri": "https://localhost:8080/"
        },
        "id": "aQ09dbZMsUGo",
        "outputId": "5d6dfe34-98f3-4e8e-bb25-208bc1e6e43a"
      },
      "execution_count": null,
      "outputs": [
        {
          "output_type": "stream",
          "name": "stdout",
          "text": [
            "44687\n"
          ]
        }
      ]
    },
    {
      "cell_type": "code",
      "source": [
        "from typing import NewType\n",
        "\n",
        "UserId = NewType(\"UserId\", int)\n",
        "ProUserId = NewType(\"ProUserId\", UserId)"
      ],
      "metadata": {
        "id": "kmQQ47lOshsG"
      },
      "execution_count": null,
      "outputs": []
    },
    {
      "cell_type": "code",
      "source": [
        "import typing\n",
        "\n",
        "# a function that takes a single parameter of type int and returns a str\n",
        "print(typing.Callable[[int], str])"
      ],
      "metadata": {
        "colab": {
          "base_uri": "https://localhost:8080/"
        },
        "id": "r_1j7RpSs5yq",
        "outputId": "eff2e270-b35d-407b-998e-7ecf133d2c90"
      },
      "execution_count": null,
      "outputs": [
        {
          "output_type": "stream",
          "name": "stdout",
          "text": [
            "typing.Callable[[int], str]\n"
          ]
        }
      ]
    },
    {
      "cell_type": "code",
      "source": [
        "from collections.abc import Mapping, Sequence\n",
        "\n",
        "class Empoloyee:\n",
        "  pass\n",
        "\n",
        "# Sequence[Employee] indicates that all elements in the sequence\n",
        "# must be instances of \"Employee\".\n",
        "# Mapping[str, str] indicates that all keys and all values in the mapping\n",
        "# must be strings."
      ],
      "metadata": {
        "id": "VSb1y4sAtoFM"
      },
      "execution_count": null,
      "outputs": []
    },
    {
      "cell_type": "code",
      "source": [
        "def first[T](l: list[T]) -> T:\n",
        "  return l[0]\n",
        "\n",
        "print(first([1, 2, 3]))"
      ],
      "metadata": {
        "colab": {
          "base_uri": "https://localhost:8080/",
          "height": 145
        },
        "id": "_sBxBkV-v3rz",
        "outputId": "48cab513-db07-4c32-fc3a-f78996d8a082"
      },
      "execution_count": null,
      "outputs": [
        {
          "output_type": "error",
          "ename": "SyntaxError",
          "evalue": "ignored",
          "traceback": [
            "\u001b[0;36m  File \u001b[0;32m\"<ipython-input-25-7b5be6017d86>\"\u001b[0;36m, line \u001b[0;32m1\u001b[0m\n\u001b[0;31m    def first[T](l: list[T]) -> T:\u001b[0m\n\u001b[0m             ^\u001b[0m\n\u001b[0;31mSyntaxError\u001b[0m\u001b[0;31m:\u001b[0m invalid syntax\n"
          ]
        }
      ]
    },
    {
      "cell_type": "code",
      "source": [
        "x: tuple[int] = (5,)\n",
        "y: tuple[int, str] = (5, \"foo\")\n",
        "z: tuple[int] = (1, 2, 3)\n",
        "\n",
        "print(type(x), type(y), type(z))"
      ],
      "metadata": {
        "colab": {
          "base_uri": "https://localhost:8080/"
        },
        "id": "ldfU4LaIB6Gc",
        "outputId": "1902417a-e9c2-40ad-c58f-256f171c9d17"
      },
      "execution_count": null,
      "outputs": [
        {
          "output_type": "stream",
          "name": "stdout",
          "text": [
            "<class 'tuple'> <class 'tuple'> <class 'tuple'>\n"
          ]
        }
      ]
    },
    {
      "cell_type": "code",
      "source": [
        "y: tuple[()] = ()\n",
        "print(y)"
      ],
      "metadata": {
        "colab": {
          "base_uri": "https://localhost:8080/"
        },
        "id": "MLGvRH7oCV2V",
        "outputId": "0dd1466b-360e-4d5a-a650-e78e9c37ebde"
      },
      "execution_count": null,
      "outputs": [
        {
          "output_type": "stream",
          "name": "stdout",
          "text": [
            "(21, 3)\n"
          ]
        }
      ]
    },
    {
      "cell_type": "code",
      "source": [
        "from logging import Logger\n",
        "\n",
        "class LoggedVar[T]:\n",
        "  def __init__(self, value: T, name: str, logger: Logger) -> None:\n",
        "    self.name = name\n",
        "    self.logger = logger\n",
        "    self.value = value\n",
        "\n",
        "  def set(self, new: T) -> None:\n",
        "    self.log(\"Set\" + repr(self.value))\n",
        "    self.value = new\n"
      ],
      "metadata": {
        "id": "MhSOl3WZCpbQ"
      },
      "execution_count": null,
      "outputs": []
    },
    {
      "cell_type": "code",
      "source": [
        "from typing import Any\n",
        "\n",
        "a: Any = None\n",
        "a = []\n",
        "a = 2\n",
        "s: str = \"\"\n",
        "s = a\n",
        "\n",
        "print(s)"
      ],
      "metadata": {
        "colab": {
          "base_uri": "https://localhost:8080/"
        },
        "id": "xP9welk1DAzR",
        "outputId": "8fb9a6c0-3b23-45d9-8de3-27746b6e46f1"
      },
      "execution_count": null,
      "outputs": [
        {
          "output_type": "stream",
          "name": "stdout",
          "text": [
            "<class 'int'>\n"
          ]
        }
      ]
    }
  ]
}